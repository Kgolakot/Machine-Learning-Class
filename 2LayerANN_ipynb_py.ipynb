{
  "nbformat": 4,
  "nbformat_minor": 0,
  "metadata": {
    "kernelspec": {
      "display_name": "Python 2",
      "language": "python",
      "name": "python2"
    },
    "language_info": {
      "codemirror_mode": {
        "name": "ipython",
        "version": 2
      },
      "file_extension": ".py",
      "mimetype": "text/x-python",
      "name": "python",
      "nbconvert_exporter": "python",
      "pygments_lexer": "ipython2",
      "version": "2.7.15"
    },
    "colab": {
      "name": "2LayerANN.ipynb.py",
      "provenance": []
    }
  },
  "cells": [
    {
      "cell_type": "code",
      "metadata": {
        "id": "QK_087kex21j",
        "colab_type": "code",
        "colab": {}
      },
      "source": [
        "from sklearn.metrics import confusion_matrix, accuracy_score, classification_report\n",
        "import numpy as np\n",
        "import matplotlib.pyplot as plt"
      ],
      "execution_count": 2,
      "outputs": []
    },
    {
      "cell_type": "code",
      "metadata": {
        "id": "edAncNIsx21t",
        "colab_type": "code",
        "colab": {
          "base_uri": "https://localhost:8080/",
          "height": 368
        },
        "outputId": "52c91e2c-3beb-4f00-f74b-ec082fb1f626"
      },
      "source": [
        "# Read Fashion MNIST dataset\n",
        "\n",
        "import mnist_reader\n",
        "X_t, y_train = mnist_reader.load_mnist('data/fashion', kind='train')\n",
        "X_t1, y_test = mnist_reader.load_mnist('data/fashion', kind='t10k')"
      ],
      "execution_count": 3,
      "outputs": [
        {
          "output_type": "error",
          "ename": "ImportError",
          "evalue": "ignored",
          "traceback": [
            "\u001b[0;31m\u001b[0m",
            "\u001b[0;31mImportError\u001b[0mTraceback (most recent call last)",
            "\u001b[0;32m<ipython-input-3-54f2aa142b30>\u001b[0m in \u001b[0;36m<module>\u001b[0;34m()\u001b[0m\n\u001b[1;32m      1\u001b[0m \u001b[0;31m# Read Fashion MNIST dataset\u001b[0m\u001b[0;34m\u001b[0m\u001b[0;34m\u001b[0m\u001b[0m\n\u001b[1;32m      2\u001b[0m \u001b[0;34m\u001b[0m\u001b[0m\n\u001b[0;32m----> 3\u001b[0;31m \u001b[0;32mimport\u001b[0m \u001b[0mmnist_reader\u001b[0m\u001b[0;34m\u001b[0m\u001b[0m\n\u001b[0m\u001b[1;32m      4\u001b[0m \u001b[0mX_t\u001b[0m\u001b[0;34m,\u001b[0m \u001b[0my_train\u001b[0m \u001b[0;34m=\u001b[0m \u001b[0mmnist_reader\u001b[0m\u001b[0;34m.\u001b[0m\u001b[0mload_mnist\u001b[0m\u001b[0;34m(\u001b[0m\u001b[0;34m'data/fashion'\u001b[0m\u001b[0;34m,\u001b[0m \u001b[0mkind\u001b[0m\u001b[0;34m=\u001b[0m\u001b[0;34m'train'\u001b[0m\u001b[0;34m)\u001b[0m\u001b[0;34m\u001b[0m\u001b[0m\n\u001b[1;32m      5\u001b[0m \u001b[0mX_t1\u001b[0m\u001b[0;34m,\u001b[0m \u001b[0my_test\u001b[0m \u001b[0;34m=\u001b[0m \u001b[0mmnist_reader\u001b[0m\u001b[0;34m.\u001b[0m\u001b[0mload_mnist\u001b[0m\u001b[0;34m(\u001b[0m\u001b[0;34m'data/fashion'\u001b[0m\u001b[0;34m,\u001b[0m \u001b[0mkind\u001b[0m\u001b[0;34m=\u001b[0m\u001b[0;34m't10k'\u001b[0m\u001b[0;34m)\u001b[0m\u001b[0;34m\u001b[0m\u001b[0m\n",
            "\u001b[0;31mImportError\u001b[0m: No module named mnist_reader",
            "",
            "\u001b[0;31m---------------------------------------------------------------------------\u001b[0;32m\nNOTE: If your import is failing due to a missing package, you can\nmanually install dependencies using either !pip or !apt.\n\nTo view examples of installing some common dependencies, click the\n\"Open Examples\" button below.\n\u001b[0;31m---------------------------------------------------------------------------\u001b[0m\n"
          ]
        }
      ]
    },
    {
      "cell_type": "code",
      "metadata": {
        "id": "dTewjk50x210",
        "colab_type": "code",
        "colab": {}
      },
      "source": [
        "# adding bias variable for the data x=1\n",
        "X_train = np.hstack((X_t, np.ones((X_t.shape[0], 1), dtype=X_t.dtype)))\n",
        "X_test = np.hstack((X_t1, np.ones((X_t1.shape[0], 1), dtype=X_t1.dtype))) \n"
      ],
      "execution_count": null,
      "outputs": []
    },
    {
      "cell_type": "code",
      "metadata": {
        "id": "Dv7WG6aJx214",
        "colab_type": "code",
        "colab": {}
      },
      "source": [
        "X_train = X_train/255.0\n",
        "X_test = X_test/255.0"
      ],
      "execution_count": null,
      "outputs": []
    },
    {
      "cell_type": "code",
      "metadata": {
        "id": "3n-_wun1x218",
        "colab_type": "code",
        "colab": {}
      },
      "source": [
        "#splitting the data into training set and validation set\n",
        "X_val = X_train[54000:60000, :]\n",
        "X_train = X_train[1:54000, :]\n",
        "\n",
        "y_val = y_train[54000:60000]\n",
        "y_train = y_train[1:54000]"
      ],
      "execution_count": null,
      "outputs": []
    },
    {
      "cell_type": "code",
      "metadata": {
        "id": "TMRXL9rsx22B",
        "colab_type": "code",
        "colab": {}
      },
      "source": [
        "#tunable hyperparameters\n",
        "epochs = 450\n",
        "learning_rate = 0.0001\n",
        "\n",
        "#losstrack\n",
        "losstrack_train = []\n",
        "losstrack_val = []"
      ],
      "execution_count": null,
      "outputs": []
    },
    {
      "cell_type": "code",
      "metadata": {
        "id": "S6GVlGG-x22J",
        "colab_type": "code",
        "colab": {}
      },
      "source": [
        "#intializing bias and weights \n",
        "bias_1 = np.random.randn(1,10)*0.1\n",
        "\n",
        "weight_1 = np.random.randn(X_train.shape[1],14)*0.1\n",
        "weight_2 = np.random.randn(14,10)*0.1"
      ],
      "execution_count": null,
      "outputs": []
    },
    {
      "cell_type": "code",
      "metadata": {
        "id": "ekWk7Bssx22Q",
        "colab_type": "code",
        "colab": {}
      },
      "source": [
        "#softmax function\n",
        "def softmax(z):\n",
        "    e_x = np.exp(z)\n",
        "    return e_x / e_x.sum(axis=1, keepdims =True)"
      ],
      "execution_count": null,
      "outputs": []
    },
    {
      "cell_type": "code",
      "metadata": {
        "id": "8krZDeUkx22T",
        "colab_type": "code",
        "colab": {}
      },
      "source": [
        "#sigmoid funciton\n",
        "def sigmoid(z):\n",
        "    return 1 / (1 + np.exp(-z))"
      ],
      "execution_count": null,
      "outputs": []
    },
    {
      "cell_type": "code",
      "metadata": {
        "id": "4RTPy-jQx22Z",
        "colab_type": "code",
        "colab": {}
      },
      "source": [
        "def sigmoid_derivative(a):\n",
        "    p = np.multiply(a, (1-a))\n",
        "    return p"
      ],
      "execution_count": null,
      "outputs": []
    },
    {
      "cell_type": "code",
      "metadata": {
        "id": "Ui_UDCL0x22c",
        "colab_type": "code",
        "colab": {}
      },
      "source": [
        "#crossentropy function\n",
        "def cross_entropy(x, y):\n",
        "    m = y.shape[0]\n",
        "    log_likelihood = -np.log(x[range(m), y])\n",
        "    loss = np.sum(log_likelihood) / m\n",
        "    return loss"
      ],
      "execution_count": null,
      "outputs": []
    },
    {
      "cell_type": "code",
      "metadata": {
        "id": "tyMjM4ohx22f",
        "colab_type": "code",
        "colab": {}
      },
      "source": [
        "def delta_weight_2(p, y, a):\n",
        "    m = y.shape[0]\n",
        "    p[range(m), y] -= 1\n",
        "    b = np.dot(a.T, p)\n",
        "    return b"
      ],
      "execution_count": null,
      "outputs": []
    },
    {
      "cell_type": "code",
      "metadata": {
        "id": "vrXqBwpMx22k",
        "colab_type": "code",
        "colab": {}
      },
      "source": [
        "#gradient of weight 1 (first layer)\n",
        "def delta_weight_1(a2, a1, w2, x, y):\n",
        "    l = np.dot(a2, w2.T)\n",
        "    q = sigmoid_derivative(a1)\n",
        "    dw1 = np.dot(x.T, q*l)\n",
        "    return dw1"
      ],
      "execution_count": null,
      "outputs": []
    },
    {
      "cell_type": "code",
      "metadata": {
        "id": "hgteyzNqx22m",
        "colab_type": "code",
        "colab": {}
      },
      "source": [
        "#gradient of bias of second layer\n",
        "def delta_bias_1(a, y):\n",
        "    w = np.sum(a, axis = 1)\n",
        "    return w \n"
      ],
      "execution_count": null,
      "outputs": []
    },
    {
      "cell_type": "code",
      "metadata": {
        "id": "MP50EGhMx22q",
        "colab_type": "code",
        "colab": {}
      },
      "source": [
        "for epoch in range(epochs):  \n",
        "#first layer for training set\n",
        "    z1_train = np.dot(X_train, weight_1) \n",
        "    a1_train = sigmoid(z1_train)\n",
        "#second layer of training set\n",
        "    z2_train = np.dot(a1_train, weight_2) + bias_1\n",
        "    a2_train = softmax(z2_train)\n",
        "#first layer of validation set    \n",
        "    z1_val = np.dot(X_val, weight_1) \n",
        "    a1_val = sigmoid(z1_val)\n",
        "#second layer of validation set    \n",
        "    z2_val = np.dot(a1_val, weight_2) + bias_1\n",
        "    a2_val = softmax(z2_val)\n",
        "#training loss and validation loss\n",
        "    loss_train = cross_entropy(a2_train, y_train)\n",
        "    loss_val = cross_entropy(a2_val, y_val)\n",
        "#backpropagation of gradients\n",
        "    grad_weight_2 = delta_weight_2(a2_train, y_train, a1_train)\n",
        "    grad_weight_1 = delta_weight_1(a2_train, a1_train, weight_2, X_train, y_train)\n",
        "#backpropagation of bias\n",
        "    del_bias_1 = delta_bias_1(a2_train.T, y_train)\n",
        "#gradient descent of both wieghts\n",
        "    weight_1 = weight_1 - learning_rate*grad_weight_1\n",
        "    weight_2 = weight_2 - learning_rate*grad_weight_2\n",
        "#gradient descent of bias\n",
        "    bias_1 = bias_1 - learning_rate*del_bias_1\n",
        "#plotting the loss    \n",
        "    losstrack_train.append(loss_train)\n",
        "    losstrack_val.append(loss_val)\n",
        "    plt.plot(losstrack_train, label = 'train')\n",
        "    plt.plot(losstrack_val, label = 'validation')"
      ],
      "execution_count": null,
      "outputs": []
    },
    {
      "cell_type": "code",
      "metadata": {
        "id": "3wdCeMsjx22s",
        "colab_type": "code",
        "colab": {
          "base_uri": "https://localhost:8080/",
          "height": 232
        },
        "outputId": "ff7b489c-5ac5-4429-9a27-982e989d9d58"
      },
      "source": [
        "z1_test = np.dot(X_test, weight_1)\n",
        "a1_test = sigmoid(z1_test)\n",
        "\n",
        "z2_test = np.dot(a1_test, weight_2) + bias_1\n",
        "a2_test = softmax(z2_test)"
      ],
      "execution_count": 1,
      "outputs": [
        {
          "output_type": "error",
          "ename": "NameError",
          "evalue": "ignored",
          "traceback": [
            "\u001b[0;31m\u001b[0m",
            "\u001b[0;31mNameError\u001b[0mTraceback (most recent call last)",
            "\u001b[0;32m<ipython-input-1-ae97996977a0>\u001b[0m in \u001b[0;36m<module>\u001b[0;34m()\u001b[0m\n\u001b[0;32m----> 1\u001b[0;31m \u001b[0mz1_test\u001b[0m \u001b[0;34m=\u001b[0m \u001b[0mnp\u001b[0m\u001b[0;34m.\u001b[0m\u001b[0mdot\u001b[0m\u001b[0;34m(\u001b[0m\u001b[0mX_test\u001b[0m\u001b[0;34m,\u001b[0m \u001b[0mweight_1\u001b[0m\u001b[0;34m)\u001b[0m\u001b[0;34m\u001b[0m\u001b[0m\n\u001b[0m\u001b[1;32m      2\u001b[0m \u001b[0ma1_test\u001b[0m \u001b[0;34m=\u001b[0m \u001b[0msigmoid\u001b[0m\u001b[0;34m(\u001b[0m\u001b[0mz1_test\u001b[0m\u001b[0;34m)\u001b[0m\u001b[0;34m\u001b[0m\u001b[0m\n\u001b[1;32m      3\u001b[0m \u001b[0;34m\u001b[0m\u001b[0m\n\u001b[1;32m      4\u001b[0m \u001b[0mz2_test\u001b[0m \u001b[0;34m=\u001b[0m \u001b[0mnp\u001b[0m\u001b[0;34m.\u001b[0m\u001b[0mdot\u001b[0m\u001b[0;34m(\u001b[0m\u001b[0ma1_test\u001b[0m\u001b[0;34m,\u001b[0m \u001b[0mweight_2\u001b[0m\u001b[0;34m)\u001b[0m \u001b[0;34m+\u001b[0m \u001b[0mbias_1\u001b[0m\u001b[0;34m\u001b[0m\u001b[0m\n\u001b[1;32m      5\u001b[0m \u001b[0ma2_test\u001b[0m \u001b[0;34m=\u001b[0m \u001b[0msoftmax\u001b[0m\u001b[0;34m(\u001b[0m\u001b[0mz2_test\u001b[0m\u001b[0;34m)\u001b[0m\u001b[0;34m\u001b[0m\u001b[0m\n",
            "\u001b[0;31mNameError\u001b[0m: name 'np' is not defined"
          ]
        }
      ]
    },
    {
      "cell_type": "code",
      "metadata": {
        "id": "g0ZTXhH4x22v",
        "colab_type": "code",
        "colab": {},
        "outputId": "48755926-aa9b-47b2-b2fc-3d7ebd993a63"
      },
      "source": [
        "pred = a2_test[range(y_test.shape[0]), y_test]\n",
        "Accuracy = (np.sum(pred)/y_test.shape[0] )* 100"
      ],
      "execution_count": null,
      "outputs": [
        {
          "output_type": "error",
          "ename": "NameError",
          "evalue": "name 'a2_test' is not defined",
          "traceback": [
            "\u001b[0;31m---------------------------------------------------------------------------\u001b[0m",
            "\u001b[0;31mNameError\u001b[0m                                 Traceback (most recent call last)",
            "\u001b[0;32m<ipython-input-1-d665d4af4f01>\u001b[0m in \u001b[0;36m<module>\u001b[0;34m()\u001b[0m\n\u001b[0;32m----> 1\u001b[0;31m \u001b[0mpred\u001b[0m \u001b[0;34m=\u001b[0m \u001b[0ma2_test\u001b[0m\u001b[0;34m[\u001b[0m\u001b[0mrange\u001b[0m\u001b[0;34m(\u001b[0m\u001b[0my_test\u001b[0m\u001b[0;34m.\u001b[0m\u001b[0mshape\u001b[0m\u001b[0;34m[\u001b[0m\u001b[0;36m0\u001b[0m\u001b[0;34m]\u001b[0m\u001b[0;34m)\u001b[0m\u001b[0;34m,\u001b[0m \u001b[0my_test\u001b[0m\u001b[0;34m]\u001b[0m\u001b[0;34m\u001b[0m\u001b[0m\n\u001b[0m\u001b[1;32m      2\u001b[0m \u001b[0mAccuracy\u001b[0m \u001b[0;34m=\u001b[0m \u001b[0;34m(\u001b[0m\u001b[0mnp\u001b[0m\u001b[0;34m.\u001b[0m\u001b[0msum\u001b[0m\u001b[0;34m(\u001b[0m\u001b[0mpred\u001b[0m\u001b[0;34m)\u001b[0m\u001b[0;34m/\u001b[0m\u001b[0my_test\u001b[0m\u001b[0;34m.\u001b[0m\u001b[0mshape\u001b[0m\u001b[0;34m[\u001b[0m\u001b[0;36m0\u001b[0m\u001b[0;34m]\u001b[0m \u001b[0;34m)\u001b[0m\u001b[0;34m*\u001b[0m \u001b[0;36m100\u001b[0m\u001b[0;34m\u001b[0m\u001b[0m\n",
            "\u001b[0;31mNameError\u001b[0m: name 'a2_test' is not defined"
          ]
        }
      ]
    },
    {
      "cell_type": "code",
      "metadata": {
        "id": "wy5uBJYix22y",
        "colab_type": "code",
        "colab": {},
        "outputId": "1921835c-973d-4c54-a83c-8fc3851b010b"
      },
      "source": [
        "y_pred = a2_test.round()\n",
        "y_pred = np.argmax(y_pred, axis = 1)\n",
        "y_true = y_test"
      ],
      "execution_count": null,
      "outputs": [
        {
          "output_type": "error",
          "ename": "NameError",
          "evalue": "name 'a2_test' is not defined",
          "traceback": [
            "\u001b[0;31m---------------------------------------------------------------------------\u001b[0m",
            "\u001b[0;31mNameError\u001b[0m                                 Traceback (most recent call last)",
            "\u001b[0;32m<ipython-input-2-8f1e84c891b0>\u001b[0m in \u001b[0;36m<module>\u001b[0;34m()\u001b[0m\n\u001b[0;32m----> 1\u001b[0;31m \u001b[0my_pred\u001b[0m \u001b[0;34m=\u001b[0m \u001b[0ma2_test\u001b[0m\u001b[0;34m.\u001b[0m\u001b[0mround\u001b[0m\u001b[0;34m(\u001b[0m\u001b[0;34m)\u001b[0m\u001b[0;34m\u001b[0m\u001b[0m\n\u001b[0m\u001b[1;32m      2\u001b[0m \u001b[0my_pred\u001b[0m \u001b[0;34m=\u001b[0m \u001b[0mnp\u001b[0m\u001b[0;34m.\u001b[0m\u001b[0margmax\u001b[0m\u001b[0;34m(\u001b[0m\u001b[0my_pred\u001b[0m\u001b[0;34m,\u001b[0m \u001b[0maxis\u001b[0m \u001b[0;34m=\u001b[0m \u001b[0;36m1\u001b[0m\u001b[0;34m)\u001b[0m\u001b[0;34m\u001b[0m\u001b[0m\n\u001b[1;32m      3\u001b[0m \u001b[0my_true\u001b[0m \u001b[0;34m=\u001b[0m \u001b[0my_test\u001b[0m\u001b[0;34m\u001b[0m\u001b[0m\n",
            "\u001b[0;31mNameError\u001b[0m: name 'a2_test' is not defined"
          ]
        }
      ]
    },
    {
      "cell_type": "code",
      "metadata": {
        "id": "7b10p-w8x220",
        "colab_type": "code",
        "colab": {}
      },
      "source": [
        "esults = confusion_matrix(y_true, y_pred) \n",
        "print 'Confusion Matrix :'\n",
        "print(results) \n",
        "print 'Accuracy Score :',accuracy_score(y_true, y_pred) \n",
        "print 'Report : '\n",
        "print classification_report(y_true, y_pred)"
      ],
      "execution_count": null,
      "outputs": []
    }
  ]
}